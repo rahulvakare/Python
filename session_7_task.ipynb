{
 "cells": [
  {
   "cell_type": "markdown",
   "metadata": {
    "id": "FyUJ3PRAsPr4"
   },
   "source": [
    "## `Q-1:` Rectangle Class\n",
    "1. Write a Rectangle class in Python language, allowing you to build a rectangle with length and width attributes.\n",
    "\n",
    "2. Create a Perimeter() method to calculate the perimeter of the rectangle and a Area() method to calculate the area of ​​the rectangle.\n",
    "\n",
    "3. Create a method display() that display the length, width, perimeter and area of an object created using an instantiation on rectangle class."
   ]
  },
  {
   "cell_type": "markdown",
   "metadata": {
    "id": "GxUtOqJfssFK"
   },
   "source": [
    "Eg.\n",
    "After making above classes and methods, on executing below code:-\n",
    "```\n",
    "my_rectangle = Rectangle(3 , 4)\n",
    "my_rectangle.display()\n",
    "```\n",
    "\n",
    "`Output:`\n",
    "```\n",
    "The length of rectangle is:  3\n",
    "The width of rectangle is:  4\n",
    "The perimeter of rectangle is:  14\n",
    "The area of rectangle is:  12\n",
    "```\n"
   ]
  },
  {
   "cell_type": "code",
   "execution_count": 1,
   "metadata": {
    "id": "92_QT-Uj6NBg"
   },
   "outputs": [],
   "source": [
    "# write your code here\n",
    "\n",
    "class Rectangle:\n",
    "    def __init__(self,length,breadth):\n",
    "        self.l=length\n",
    "        self.b=breadth\n",
    "        \n",
    "    def perimeter(self):\n",
    "        p=2*(self.l+self.b)\n",
    "        return p\n",
    "    \n",
    "    def area(self):\n",
    "        a=self.l*self.b\n",
    "        return a\n",
    "    \n",
    "    def display(self):\n",
    "        print('Length= ',self.l)\n",
    "        print('Breadth= ',self.b)\n",
    "        print('Perimeter= ',self.perimeter())\n",
    "        print('Area= ',self.area())\n"
   ]
  },
  {
   "cell_type": "code",
   "execution_count": 2,
   "metadata": {},
   "outputs": [
    {
     "name": "stdout",
     "output_type": "stream",
     "text": [
      "Length=  3\n",
      "Breadth=  4\n",
      "Perimeter=  14\n",
      "Area=  12\n"
     ]
    }
   ],
   "source": [
    "my_rectangle = Rectangle(3 , 4)\n",
    "my_rectangle.display()"
   ]
  },
  {
   "cell_type": "markdown",
   "metadata": {
    "id": "r_GxrS0Vrdom"
   },
   "source": [
    "## `Q-2: Bank Class`\n",
    "\n",
    "1. Create a Python class called `BankAccount` which represents a bank account, having as attributes: `accountNumber` (numeric type), `name` (name of the account owner as string type), `balance`.\n",
    "2. Create a constructor with parameters: `accountNumber, name, balance`.\n",
    "3. Create a `Deposit()` method which manages the deposit actions.\n",
    "4. Create a `Withdrawal()` method  which manages withdrawals actions.\n",
    "5. Create an `bankFees()` method to apply the bank fees with a percentage of 5% of the balance account.\n",
    "6. Create a `display()` method to display account details.\n",
    "Give the complete code for the  BankAccount class."
   ]
  },
  {
   "cell_type": "markdown",
   "metadata": {
    "id": "qvVkOUJgvTV_"
   },
   "source": [
    "Eg.\n",
    "After making above classes and methods, on executing below code:-\n",
    "```\n",
    "newAccount = BankAccount(2178514584, \"Mandy\" , 2800)\n",
    "\n",
    "newAccount.Withdrawal(700)\n",
    "\n",
    "newAccount.Deposit(1000)\n",
    "\n",
    "newAccount.display()\n",
    "```\n",
    "\n",
    "`Output:`\n",
    "```\n",
    "Account Number :  2178514584\n",
    "Account Name :  Mandy\n",
    "Account Balance :  3100 ₹\n",
    "```"
   ]
  },
  {
   "cell_type": "code",
   "execution_count": 3,
   "metadata": {
    "id": "fUQOmQyA6YDR"
   },
   "outputs": [],
   "source": [
    "# write your code here\n",
    "class BankAccount:\n",
    "    def __init__(self,acc_no,name,balance):\n",
    "        self.acc_no=acc_no\n",
    "        self.name=name\n",
    "        self.balance=balance\n",
    "        \n",
    "    def deposit(self,amt):\n",
    "        self.balance=self.balance+amt\n",
    "        print('Amount Deposited')\n",
    "        \n",
    "    def withdraw(self,amt):\n",
    "        self.balance=self.balance-amt\n",
    "        print('Amount Withdrawn')\n",
    "        \n",
    "    def display(self):\n",
    "        print('Account Number : ',self.acc_no)\n",
    "        print('Account Name : ',self.name)\n",
    "        print('Account Balance : ',self.balance)"
   ]
  },
  {
   "cell_type": "code",
   "execution_count": 5,
   "metadata": {},
   "outputs": [
    {
     "name": "stdout",
     "output_type": "stream",
     "text": [
      "Amount Withdrawn\n",
      "Amount Deposited\n",
      "Account Number :  2178514584\n",
      "Account Name :  Mandy\n",
      "Account Balance :  3100\n"
     ]
    }
   ],
   "source": [
    "newAccount = BankAccount(2178514584, \"Mandy\" , 2800)\n",
    "\n",
    "newAccount.withdraw(700)\n",
    "\n",
    "newAccount.deposit(1000)\n",
    "\n",
    "newAccount.display()"
   ]
  },
  {
   "cell_type": "markdown",
   "metadata": {
    "id": "QovcQAZTrgGU"
   },
   "source": [
    "## `Q-3:Computation class`\n",
    "\n",
    "1. Create a `Computation` class with a default constructor (without parameters) allowing to perform various calculations on integers numbers.\n",
    "2. Create a method called `Factorial()` which allows to calculate the factorial of an integer n. Integer n as parameter for this method\n",
    "\n",
    "3. Create a method called `naturalSum()` allowing to calculate the sum of the first n integers 1 + 2 + 3 + .. + n. Integer n as parameter for this method.\n",
    "\n",
    "4. Create a method called `testPrime()` in  the Calculation class to test the primality of a given integer n, n is Prime or Not? Integer n as parameter for this method.\n",
    "\n",
    "5. Create  a method called `testPrims()` allowing to test if two numbers are prime between them. Two integers are prime to one another if they have only `1` as their common divisor. Eg. 4 and 9 are prime to each other.\n",
    "\n",
    "5. Create a `tableMult()` method which creates and displays the multiplication table of a given integer. Then create an `allTablesMult()` method to display all the integer multiplication tables 1, 2, 3, ..., 9.\n",
    "\n",
    "6. Create a static `listDiv()` method that gets all the divisors of a given integer on new list called  Ldiv. Create another `listDivPrim()` method that gets all the prime divisors of a given integer."
   ]
  },
  {
   "cell_type": "code",
   "execution_count": 14,
   "metadata": {
    "id": "YEkPH70l6Z-o"
   },
   "outputs": [],
   "source": [
    "# write your code here\n",
    "class Computation:\n",
    "    def __init__(self):\n",
    "        print('object created')\n",
    "    \n",
    "    def factorial(self,n):\n",
    "        fac=1\n",
    "        for i in range(1,n+1):\n",
    "            fac=fac*i\n",
    "        return fac\n",
    "    \n",
    "    def naturalSum(self,n):\n",
    "        nsum=0\n",
    "        for i in range(1,n+1):\n",
    "            nsum=nsum+i\n",
    "        return nsum\n",
    "    \n",
    "    def testPrime(self,n):\n",
    "        c=0\n",
    "        for i in range(1,n+1):\n",
    "            if n%i==0:\n",
    "                c+=1\n",
    "        if c==2:\n",
    "            return 'Prime'\n",
    "        else:\n",
    "            return 'Not prime'\n",
    "    \n",
    "    def testPrims(self,n1,n2):\n",
    "        prime_count=0\n",
    "        for i in range(n1+1,n2):\n",
    "            c=0\n",
    "            for j in range(1,i):\n",
    "                if i%j==0:\n",
    "                    c+=1\n",
    "            if c==1:\n",
    "                prime_count+=1\n",
    "        if prime_count==2:\n",
    "            return '2 prime'\n",
    "        else:\n",
    "            return 'More than 2 prime nos'\n",
    "        \n",
    "    def tableMult(self,n):\n",
    "        for i in range (1,11):\n",
    "            print('{} * {} = {}'.format(n,i,n*i))\n",
    "            \n",
    "    def listdiv(self,n):\n",
    "        l=[]\n",
    "        for i in range(1,n+1):\n",
    "            if n%i==0:\n",
    "                l.append(i)\n",
    "        return l        "
   ]
  },
  {
   "cell_type": "code",
   "execution_count": 15,
   "metadata": {},
   "outputs": [
    {
     "name": "stdout",
     "output_type": "stream",
     "text": [
      "object created\n"
     ]
    }
   ],
   "source": [
    "comp=Computation()"
   ]
  },
  {
   "cell_type": "code",
   "execution_count": 16,
   "metadata": {
    "scrolled": true
   },
   "outputs": [
    {
     "data": {
      "text/plain": [
       "'More than 2 prime nos'"
      ]
     },
     "execution_count": 16,
     "metadata": {},
     "output_type": "execute_result"
    }
   ],
   "source": [
    "comp.testPrims(1,10)"
   ]
  },
  {
   "cell_type": "code",
   "execution_count": 4,
   "metadata": {
    "scrolled": true
   },
   "outputs": [
    {
     "data": {
      "text/plain": [
       "'2 prime'"
      ]
     },
     "execution_count": 4,
     "metadata": {},
     "output_type": "execute_result"
    }
   ],
   "source": [
    "comp.testPrims(4,10)"
   ]
  },
  {
   "cell_type": "code",
   "execution_count": 19,
   "metadata": {},
   "outputs": [
    {
     "data": {
      "text/plain": [
       "[1, 5]"
      ]
     },
     "execution_count": 19,
     "metadata": {},
     "output_type": "execute_result"
    }
   ],
   "source": [
    "comp.listdiv(5)"
   ]
  },
  {
   "cell_type": "code",
   "execution_count": 8,
   "metadata": {},
   "outputs": [
    {
     "data": {
      "text/plain": [
       "120"
      ]
     },
     "execution_count": 8,
     "metadata": {},
     "output_type": "execute_result"
    }
   ],
   "source": [
    "comp.factorial(5)"
   ]
  },
  {
   "cell_type": "code",
   "execution_count": 17,
   "metadata": {
    "scrolled": true
   },
   "outputs": [
    {
     "name": "stdout",
     "output_type": "stream",
     "text": [
      "9 * 1 = 9\n",
      "9 * 2 = 18\n",
      "9 * 3 = 27\n",
      "9 * 4 = 36\n",
      "9 * 5 = 45\n",
      "9 * 6 = 54\n",
      "9 * 7 = 63\n",
      "9 * 8 = 72\n",
      "9 * 9 = 81\n",
      "9 * 10 = 90\n"
     ]
    }
   ],
   "source": [
    "comp.tableMult(9)"
   ]
  },
  {
   "cell_type": "code",
   "execution_count": 11,
   "metadata": {},
   "outputs": [
    {
     "data": {
      "text/plain": [
       "[1, 2, 4]"
      ]
     },
     "execution_count": 11,
     "metadata": {},
     "output_type": "execute_result"
    }
   ],
   "source": [
    "comp.listdiv(4)"
   ]
  },
  {
   "cell_type": "markdown",
   "metadata": {
    "id": "0yn23_oEriXa"
   },
   "source": [
    "## `Q-4`: Build flashcard using class in Python.\n",
    "\n",
    "Build a flashcard using class in python. A flashcard is a card having information on both sides, which can be used as an aid in memoization. Flashcards usually have a question on one side and an answer on the other.\n",
    "\n",
    "**Example 1:**\n",
    "\n",
    "Approach:\n",
    "\n",
    "- Create a class named FlashCard.\n",
    "- Initialize dictionary fruits using __init__() method. Here you have to define fruit name as key and it's color as value. E.g., {\"Banana\": \"yellow\", \"Strawberries\": \"pink\"}\n",
    "- Now randomly choose a pair from fruits by using _random_ module and store the key in variable _fruit_ and _value_ in variable color.\n",
    "- Now prompt the user to answer the color of the randomly chosen fruit.\n",
    "- If correct print correct else print wrong.\n",
    "\n",
    "Output:\n",
    "```bash\n",
    "welcome to fruit quiz\n",
    "What is the color of Strawberries\n",
    "pink\n",
    "Correct answer\n",
    "Enter 0, if you want to play again: 0\n",
    "What is the color of watermelon\n",
    "green\n",
    "Correct answer\n",
    "Enter 0, if you want to play again: 1\n",
    "```"
   ]
  },
  {
   "cell_type": "code",
   "execution_count": 1,
   "metadata": {
    "id": "vCrUF6VU6l6w"
   },
   "outputs": [],
   "source": [
    "# write your code here\n",
    "\n",
    "import random\n",
    "class FlashCard:\n",
    "    def __init__(self):\n",
    "        self.fruits={\"Banana\": \"yellow\", \n",
    "                \"Strawberries\": \"pink\",\n",
    "                \"Apple\":\"red\",\n",
    "                \"Guava\":\"green\",\n",
    "                \"Mango\":\"yellow\"}\n",
    "        self.menu()\n",
    "        \n",
    "    def menu(self):\n",
    "        fruit=random.choice(list(self.fruits.keys()))\n",
    "        choice=input('What is the colour of {} '.format(fruit))\n",
    "        if choice==self.fruits[fruit]:\n",
    "            print('Correct Answer')\n",
    "        else:\n",
    "            print('Incorrect Answer')\n",
    "        again=input('Enter 0, if you want to play again ')\n",
    "        if again=='0':\n",
    "            self.menu()\n",
    "        else:\n",
    "            exit()"
   ]
  },
  {
   "cell_type": "code",
   "execution_count": 2,
   "metadata": {},
   "outputs": [
    {
     "name": "stdout",
     "output_type": "stream",
     "text": [
      "What is the colour of Strawberries red\n",
      "Incorrect Answer\n",
      "Enter 0, if you want to play again 0\n",
      "What is the colour of Banana yellow\n",
      "Correct Answer\n",
      "Enter 0, if you want to play again 0\n",
      "What is the colour of Guava green\n",
      "Correct Answer\n",
      "Enter 0, if you want to play again 1\n"
     ]
    }
   ],
   "source": [
    "flash=FlashCard()"
   ]
  },
  {
   "cell_type": "markdown",
   "metadata": {
    "id": "GN2r0jbRewYr"
   },
   "source": [
    "## `Q-5:` Problem 5 based on OOP Python.\n",
    "\n",
    "TechWorld, a technology training center, wants to allocate courses for instructors. An instructor is identified by name, technology skills, experience and average feedback. An instructor is allocated a course, if he/she satisfies the below two conditions:\n",
    "- eligibility criteria:\n",
    "    - if experience is more than 3 years, average feedback should be 4.5 or more\n",
    "    - if experience is 3 years or less, average feedback should be 4 or more\n",
    "- he/she should posses the technology skill for the course\n",
    "\n",
    "Identify the class name and attributes to represent instructors. Write a Python program to implement the class chosen with its attributes and methods.\n",
    "\n",
    "**Note:**\n",
    "- Consider all instance variables to be private and methods to be public.\n",
    "- An instructor may have multiple technology skills, so consider instance variable, technology_skill to be a list.\n",
    "- *check_eligibility()*: Return true if eligibility criteria is satisfied by the instructor. Else, return false\n",
    "- *allocate_course(technology)*: Return true if the course which requires the given technology can be allocated to the instructor. Else, return false.\n",
    "\n",
    "Represent a few objects of the class, initialize instance variables using setter methods, invoke\n",
    "appropriate methods and test your program."
   ]
  },
  {
   "cell_type": "code",
   "execution_count": null,
   "metadata": {
    "id": "pdMFuVFnlvKL"
   },
   "outputs": [],
   "source": [
    "# write your code here\n"
   ]
  }
 ],
 "metadata": {
  "colab": {
   "provenance": []
  },
  "kernelspec": {
   "display_name": "Python 3",
   "language": "python",
   "name": "python3"
  },
  "language_info": {
   "codemirror_mode": {
    "name": "ipython",
    "version": 3
   },
   "file_extension": ".py",
   "mimetype": "text/x-python",
   "name": "python",
   "nbconvert_exporter": "python",
   "pygments_lexer": "ipython3",
   "version": "3.7.6"
  }
 },
 "nbformat": 4,
 "nbformat_minor": 1
}
